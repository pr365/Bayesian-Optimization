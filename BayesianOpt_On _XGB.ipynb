{
  "nbformat": 4,
  "nbformat_minor": 0,
  "metadata": {
    "kernelspec": {
      "name": "python3",
      "display_name": "Python 3"
    },
    "language_info": {
      "codemirror_mode": {
        "name": "ipython",
        "version": 3
      },
      "file_extension": ".py",
      "mimetype": "text/x-python",
      "name": "python",
      "nbconvert_exporter": "python",
      "pygments_lexer": "ipython3",
      "version": "3.7.3"
    },
    "colab": {
      "name": "4_Guess_The_Author.ipynb",
      "version": "0.3.2",
      "provenance": [],
      "collapsed_sections": [
        "pneTuZFn8SlJ"
      ]
    },
    "accelerator": "GPU"
  },
  "cells": [
    {
      "cell_type": "markdown",
      "metadata": {
        "id": "_2WH3dLs8yiL",
        "colab_type": "text"
      },
      "source": [
        "#Prediction Score = 0.919222257350617"
      ]
    },
    {
      "cell_type": "code",
      "metadata": {
        "id": "i2b957Lq83EH",
        "colab_type": "code",
        "outputId": "d3325e88-35d1-4aff-a9de-d46ecf60ea54",
        "colab": {
          "base_uri": "https://localhost:8080/",
          "height": 122
        }
      },
      "source": [
        "from google.colab import drive\n",
        "drive.mount(\"/gd\")"
      ],
      "execution_count": 0,
      "outputs": [
        {
          "output_type": "stream",
          "text": [
            "Go to this URL in a browser: https://accounts.google.com/o/oauth2/auth?client_id=947318989803-6bn6qk8qdgf4n4g3pfee6491hc0brc4i.apps.googleusercontent.com&redirect_uri=urn%3Aietf%3Awg%3Aoauth%3A2.0%3Aoob&scope=email%20https%3A%2F%2Fwww.googleapis.com%2Fauth%2Fdocs.test%20https%3A%2F%2Fwww.googleapis.com%2Fauth%2Fdrive%20https%3A%2F%2Fwww.googleapis.com%2Fauth%2Fdrive.photos.readonly%20https%3A%2F%2Fwww.googleapis.com%2Fauth%2Fpeopleapi.readonly&response_type=code\n",
            "\n",
            "Enter your authorization code:\n",
            "··········\n",
            "Mounted at /gd\n"
          ],
          "name": "stdout"
        }
      ]
    },
    {
      "cell_type": "code",
      "metadata": {
        "id": "mEJYY3fC8Sgo",
        "colab_type": "code",
        "colab": {}
      },
      "source": [
        "import pandas as pd"
      ],
      "execution_count": 0,
      "outputs": []
    },
    {
      "cell_type": "markdown",
      "metadata": {
        "id": "ScNU2Pnp8Sg8",
        "colab_type": "text"
      },
      "source": [
        "## Data Exploration With Training Data"
      ]
    },
    {
      "cell_type": "code",
      "metadata": {
        "id": "l0kSkvRk8ShA",
        "colab_type": "code",
        "colab": {}
      },
      "source": [
        "train_data = pd.read_csv(\"MachineHack_Datasets/Guess_The_Author/TRAIN.csv\")"
      ],
      "execution_count": 0,
      "outputs": []
    },
    {
      "cell_type": "code",
      "metadata": {
        "id": "E6ckTPEh8ShL",
        "colab_type": "code",
        "outputId": "e05709da-d884-4f21-bd55-c9a5fcfc9600",
        "colab": {}
      },
      "source": [
        "train_data.head()"
      ],
      "execution_count": 0,
      "outputs": [
        {
          "output_type": "execute_result",
          "data": {
            "text/html": [
              "<div>\n",
              "<style scoped>\n",
              "    .dataframe tbody tr th:only-of-type {\n",
              "        vertical-align: middle;\n",
              "    }\n",
              "\n",
              "    .dataframe tbody tr th {\n",
              "        vertical-align: top;\n",
              "    }\n",
              "\n",
              "    .dataframe thead th {\n",
              "        text-align: right;\n",
              "    }\n",
              "</style>\n",
              "<table border=\"1\" class=\"dataframe\">\n",
              "  <thead>\n",
              "    <tr style=\"text-align: right;\">\n",
              "      <th></th>\n",
              "      <th>text</th>\n",
              "      <th>author</th>\n",
              "    </tr>\n",
              "  </thead>\n",
              "  <tbody>\n",
              "    <tr>\n",
              "      <th>0</th>\n",
              "      <td>They have been pronounced by an\\r\\n\\r\\n\\r\\n\\r\\...</td>\n",
              "      <td>2</td>\n",
              "    </tr>\n",
              "    <tr>\n",
              "      <th>1</th>\n",
              "      <td>His partner sailed along in\\r\\n\\r\\n\\r\\n\\r\\n\\r\\...</td>\n",
              "      <td>0</td>\n",
              "    </tr>\n",
              "    <tr>\n",
              "      <th>2</th>\n",
              "      <td>The cushions were a good deal higher\\r\\n\\r\\n\\r...</td>\n",
              "      <td>5</td>\n",
              "    </tr>\n",
              "    <tr>\n",
              "      <th>3</th>\n",
              "      <td>O God, grant that in his presence I may\\r\\n\\r\\...</td>\n",
              "      <td>4</td>\n",
              "    </tr>\n",
              "    <tr>\n",
              "      <th>4</th>\n",
              "      <td>The grass\\r\\n\\r\\n\\r\\n\\r\\n\\r\\nglowed with brigh...</td>\n",
              "      <td>0</td>\n",
              "    </tr>\n",
              "  </tbody>\n",
              "</table>\n",
              "</div>"
            ],
            "text/plain": [
              "                                                text  author\n",
              "0  They have been pronounced by an\\r\\n\\r\\n\\r\\n\\r\\...       2\n",
              "1  His partner sailed along in\\r\\n\\r\\n\\r\\n\\r\\n\\r\\...       0\n",
              "2  The cushions were a good deal higher\\r\\n\\r\\n\\r...       5\n",
              "3  O God, grant that in his presence I may\\r\\n\\r\\...       4\n",
              "4  The grass\\r\\n\\r\\n\\r\\n\\r\\n\\r\\nglowed with brigh...       0"
            ]
          },
          "metadata": {
            "tags": []
          },
          "execution_count": 6
        }
      ]
    },
    {
      "cell_type": "code",
      "metadata": {
        "id": "bJe9NJzY8ShY",
        "colab_type": "code",
        "outputId": "fce350bc-817e-4baa-8f2a-638a798c3b26",
        "colab": {}
      },
      "source": [
        "train_data['text'][0]"
      ],
      "execution_count": 0,
      "outputs": [
        {
          "output_type": "execute_result",
          "data": {
            "text/plain": [
              "'They have been pronounced by an\\r\\n\\r\\n\\r\\n\\r\\n\\r\\nexpert to be of a rare variety and of considerable value., You can see\\r\\n\\r\\n\\r\\n\\r\\n\\r\\nfor yourselves that they are very handsome.\"  She opened a flat box as\\r\\n\\r\\n\\r\\n\\r\\n\\r\\nshe spoke, and showed me six of the finest pearls that I had ever seen.\\r\\n\\r\\n\\r\\n\\r\\n\\r\\n\\r\\n\\r\\n\\r\\n\\r\\n\\r\\n\\r\\n\\r\\n\\r\\n\\r\\n\\r\\n\\r\\n\\r\\n\\r\\n\\r\\n\\r\\n\"Your statement is most interesting,\" said Sherlock Holmes.  \"Has\\r\\n\\r\\n\\r\\n\\r\\n\\r\\nanything else occurred to you?\"\\r\\n\\r\\n\\r\\n\\r\\n\\r\\n\\r\\n\\r\\n\\r\\n\\r\\n\\r\\n\\r\\n\\r\\n\\r\\n\\r\\n\\r\\n\\r\\n\\r\\n\\r\\n\\r\\n\\r\\n\"Yes, and no later than to-day., That is why I have come to you., This\\r\\n\\r\\n\\r\\n\\r\\n\\r\\nmorning I received this letter, which you will perhaps read for\\r\\n\\r\\n\\r\\n\\r\\n\\r\\nyourself.\"\\r\\n\\r\\n\\r\\n\\r\\n\\r\\n\\r\\n\\r\\n\\r\\n\\r\\n\\r\\n\\r\\n\\r\\n\\r\\n\\r\\n\\r\\n\\r\\n\\r\\n\\r\\n\\r\\n\\r\\n\"Thank you,\" said Holmes.  \"The envelope too, please., Postmark,\\r\\n\\r\\n\\r\\n\\r\\n\\r\\nLondon, S.W., Date, July 7., Hum!  Man\\'s thumb-mark on\\r\\n\\r\\n\\r\\n\\r\\n\\r\\ncorner,â€”probably postman., Best quality paper., Envelopes at sixpence\\r\\n\\r\\n\\r\\n\\r\\n\\r\\na packet., Particular man in his stationery.'"
            ]
          },
          "metadata": {
            "tags": []
          },
          "execution_count": 8
        }
      ]
    },
    {
      "cell_type": "code",
      "metadata": {
        "id": "FGqVA47I8Shi",
        "colab_type": "code",
        "outputId": "a51175e5-aae7-4ed0-fc65-f9b2d014aa92",
        "colab": {}
      },
      "source": [
        "train_data.info()"
      ],
      "execution_count": 0,
      "outputs": [
        {
          "output_type": "stream",
          "text": [
            "<class 'pandas.core.frame.DataFrame'>\n",
            "RangeIndex: 18977 entries, 0 to 18976\n",
            "Data columns (total 2 columns):\n",
            "text      18977 non-null object\n",
            "author    18977 non-null int64\n",
            "dtypes: int64(1), object(1)\n",
            "memory usage: 296.6+ KB\n"
          ],
          "name": "stdout"
        }
      ]
    },
    {
      "cell_type": "code",
      "metadata": {
        "id": "v8Msps-p8Shq",
        "colab_type": "code",
        "colab": {}
      },
      "source": [
        "#changing the type of categorical variable to obj\n",
        "train_data.author = train_data.author.astype(str)"
      ],
      "execution_count": 0,
      "outputs": []
    },
    {
      "cell_type": "code",
      "metadata": {
        "id": "AD30JtG-8Shx",
        "colab_type": "code",
        "outputId": "87f533a6-ae93-4cdb-8f90-6533841e2593",
        "colab": {}
      },
      "source": [
        "train_data.describe(include = 'all')\n"
      ],
      "execution_count": 0,
      "outputs": [
        {
          "output_type": "execute_result",
          "data": {
            "text/html": [
              "<div>\n",
              "<style scoped>\n",
              "    .dataframe tbody tr th:only-of-type {\n",
              "        vertical-align: middle;\n",
              "    }\n",
              "\n",
              "    .dataframe tbody tr th {\n",
              "        vertical-align: top;\n",
              "    }\n",
              "\n",
              "    .dataframe thead th {\n",
              "        text-align: right;\n",
              "    }\n",
              "</style>\n",
              "<table border=\"1\" class=\"dataframe\">\n",
              "  <thead>\n",
              "    <tr style=\"text-align: right;\">\n",
              "      <th></th>\n",
              "      <th>text</th>\n",
              "      <th>author</th>\n",
              "    </tr>\n",
              "  </thead>\n",
              "  <tbody>\n",
              "    <tr>\n",
              "      <th>count</th>\n",
              "      <td>18977</td>\n",
              "      <td>18977</td>\n",
              "    </tr>\n",
              "    <tr>\n",
              "      <th>unique</th>\n",
              "      <td>18977</td>\n",
              "      <td>10</td>\n",
              "    </tr>\n",
              "    <tr>\n",
              "      <th>top</th>\n",
              "      <td>Stumbling over\\r\\n\\r\\n\\r\\n\\r\\n\\r\\nthe corpse, ...</td>\n",
              "      <td>0</td>\n",
              "    </tr>\n",
              "    <tr>\n",
              "      <th>freq</th>\n",
              "      <td>1</td>\n",
              "      <td>3859</td>\n",
              "    </tr>\n",
              "  </tbody>\n",
              "</table>\n",
              "</div>"
            ],
            "text/plain": [
              "                                                     text author\n",
              "count                                               18977  18977\n",
              "unique                                              18977     10\n",
              "top     Stumbling over\\r\\n\\r\\n\\r\\n\\r\\n\\r\\nthe corpse, ...      0\n",
              "freq                                                    1   3859"
            ]
          },
          "metadata": {
            "tags": []
          },
          "execution_count": 17
        }
      ]
    },
    {
      "cell_type": "code",
      "metadata": {
        "id": "jqocxbTI8Sh-",
        "colab_type": "code",
        "outputId": "89ce84d6-34d2-4462-dbde-fcb76b9aac14",
        "colab": {}
      },
      "source": [
        "train_data.groupby(train_data.author).describe(include = 'all')"
      ],
      "execution_count": 0,
      "outputs": [
        {
          "output_type": "execute_result",
          "data": {
            "text/html": [
              "<div>\n",
              "<style scoped>\n",
              "    .dataframe tbody tr th:only-of-type {\n",
              "        vertical-align: middle;\n",
              "    }\n",
              "\n",
              "    .dataframe tbody tr th {\n",
              "        vertical-align: top;\n",
              "    }\n",
              "\n",
              "    .dataframe thead tr th {\n",
              "        text-align: left;\n",
              "    }\n",
              "\n",
              "    .dataframe thead tr:last-of-type th {\n",
              "        text-align: right;\n",
              "    }\n",
              "</style>\n",
              "<table border=\"1\" class=\"dataframe\">\n",
              "  <thead>\n",
              "    <tr>\n",
              "      <th></th>\n",
              "      <th colspan=\"4\" halign=\"left\">text</th>\n",
              "    </tr>\n",
              "    <tr>\n",
              "      <th></th>\n",
              "      <th>count</th>\n",
              "      <th>unique</th>\n",
              "      <th>top</th>\n",
              "      <th>freq</th>\n",
              "    </tr>\n",
              "    <tr>\n",
              "      <th>author</th>\n",
              "      <th></th>\n",
              "      <th></th>\n",
              "      <th></th>\n",
              "      <th></th>\n",
              "    </tr>\n",
              "  </thead>\n",
              "  <tbody>\n",
              "    <tr>\n",
              "      <th>0</th>\n",
              "      <td>3859</td>\n",
              "      <td>3859</td>\n",
              "      <td>Stumbling over\\r\\n\\r\\n\\r\\n\\r\\n\\r\\nthe corpse, ...</td>\n",
              "      <td>1</td>\n",
              "    </tr>\n",
              "    <tr>\n",
              "      <th>1</th>\n",
              "      <td>621</td>\n",
              "      <td>621</td>\n",
              "      <td>He read[Pg 44] everything he could lay hands o...</td>\n",
              "      <td>1</td>\n",
              "    </tr>\n",
              "    <tr>\n",
              "      <th>2</th>\n",
              "      <td>2621</td>\n",
              "      <td>2621</td>\n",
              "      <td>It was in '83 that it happenedâ€”August of tha...</td>\n",
              "      <td>1</td>\n",
              "    </tr>\n",
              "    <tr>\n",
              "      <th>3</th>\n",
              "      <td>1314</td>\n",
              "      <td>1314</td>\n",
              "      <td>I always\\r\\n\\r\\n\\r\\n\\r\\n\\r\\nwhistle as I go by...</td>\n",
              "      <td>1</td>\n",
              "    </tr>\n",
              "    <tr>\n",
              "      <th>4</th>\n",
              "      <td>3184</td>\n",
              "      <td>3184</td>\n",
              "      <td>These relations continued between Nekhludoff a...</td>\n",
              "      <td>1</td>\n",
              "    </tr>\n",
              "    <tr>\n",
              "      <th>5</th>\n",
              "      <td>3517</td>\n",
              "      <td>3517</td>\n",
              "      <td>We must all get to work diligently, and at the...</td>\n",
              "      <td>1</td>\n",
              "    </tr>\n",
              "    <tr>\n",
              "      <th>6</th>\n",
              "      <td>755</td>\n",
              "      <td>755</td>\n",
              "      <td>It is highly probable that philosophers within...</td>\n",
              "      <td>1</td>\n",
              "    </tr>\n",
              "    <tr>\n",
              "      <th>7</th>\n",
              "      <td>1054</td>\n",
              "      <td>1054</td>\n",
              "      <td>This we remark in\\r\\n\\r\\n\\r\\n\\r\\n\\r\\n      the...</td>\n",
              "      <td>1</td>\n",
              "    </tr>\n",
              "    <tr>\n",
              "      <th>8</th>\n",
              "      <td>910</td>\n",
              "      <td>910</td>\n",
              "      <td>You\\r\\n\\r\\n\\r\\n\\r\\n\\r\\nhave been chased in the...</td>\n",
              "      <td>1</td>\n",
              "    </tr>\n",
              "    <tr>\n",
              "      <th>9</th>\n",
              "      <td>1142</td>\n",
              "      <td>1142</td>\n",
              "      <td>The actual talk with Mani was as follows:â€”\\r...</td>\n",
              "      <td>1</td>\n",
              "    </tr>\n",
              "  </tbody>\n",
              "</table>\n",
              "</div>"
            ],
            "text/plain": [
              "        text                                                               \n",
              "       count unique                                                top freq\n",
              "author                                                                     \n",
              "0       3859   3859  Stumbling over\\r\\n\\r\\n\\r\\n\\r\\n\\r\\nthe corpse, ...    1\n",
              "1        621    621  He read[Pg 44] everything he could lay hands o...    1\n",
              "2       2621   2621  It was in '83 that it happenedâ€”August of tha...    1\n",
              "3       1314   1314  I always\\r\\n\\r\\n\\r\\n\\r\\n\\r\\nwhistle as I go by...    1\n",
              "4       3184   3184  These relations continued between Nekhludoff a...    1\n",
              "5       3517   3517  We must all get to work diligently, and at the...    1\n",
              "6        755    755  It is highly probable that philosophers within...    1\n",
              "7       1054   1054  This we remark in\\r\\n\\r\\n\\r\\n\\r\\n\\r\\n      the...    1\n",
              "8        910    910  You\\r\\n\\r\\n\\r\\n\\r\\n\\r\\nhave been chased in the...    1\n",
              "9       1142   1142  The actual talk with Mani was as follows:â€”\\r...    1"
            ]
          },
          "metadata": {
            "tags": []
          },
          "execution_count": 21
        }
      ]
    },
    {
      "cell_type": "code",
      "metadata": {
        "id": "oGIuILxa8SiJ",
        "colab_type": "code",
        "outputId": "874543fa-82b6-4912-c285-9a4368cb860a",
        "colab": {}
      },
      "source": [
        "train_data.shape"
      ],
      "execution_count": 0,
      "outputs": [
        {
          "output_type": "execute_result",
          "data": {
            "text/plain": [
              "(18977, 2)"
            ]
          },
          "metadata": {
            "tags": []
          },
          "execution_count": 24
        }
      ]
    },
    {
      "cell_type": "code",
      "metadata": {
        "id": "hcnkXi2P8SiY",
        "colab_type": "code",
        "outputId": "b2c4c5fa-eb0e-4deb-fa55-7d825fed72f1",
        "colab": {}
      },
      "source": [
        "train_data.drop_duplicates().shape"
      ],
      "execution_count": 0,
      "outputs": [
        {
          "output_type": "execute_result",
          "data": {
            "text/plain": [
              "(18977, 2)"
            ]
          },
          "metadata": {
            "tags": []
          },
          "execution_count": 26
        }
      ]
    },
    {
      "cell_type": "markdown",
      "metadata": {
        "id": "7UKZQ8CR8Siv",
        "colab_type": "text"
      },
      "source": [
        "## Data Preprocessing"
      ]
    },
    {
      "cell_type": "code",
      "metadata": {
        "id": "Lrwye-mS8Siy",
        "colab_type": "code",
        "colab": {}
      },
      "source": [
        "import nltk\n",
        "from nltk.corpus import stopwords\n",
        "import string\n"
      ],
      "execution_count": 0,
      "outputs": []
    },
    {
      "cell_type": "code",
      "metadata": {
        "id": "JMJOSixK8Si7",
        "colab_type": "code",
        "outputId": "9948cc9b-de12-4571-d5c9-0a5817c36530",
        "colab": {}
      },
      "source": [
        "nltk.download('stopwords')\n",
        "nltk.download('wordnet')"
      ],
      "execution_count": 0,
      "outputs": [
        {
          "output_type": "stream",
          "text": [
            "[nltk_data] Downloading package stopwords to /home/amal/nltk_data...\n",
            "[nltk_data]   Package stopwords is already up-to-date!\n",
            "[nltk_data] Downloading package wordnet to /home/amal/nltk_data...\n",
            "[nltk_data]   Package wordnet is already up-to-date!\n"
          ],
          "name": "stderr"
        },
        {
          "output_type": "execute_result",
          "data": {
            "text/plain": [
              "True"
            ]
          },
          "metadata": {
            "tags": []
          },
          "execution_count": 66
        }
      ]
    },
    {
      "cell_type": "markdown",
      "metadata": {
        "id": "iYAKdU6h8SjC",
        "colab_type": "text"
      },
      "source": [
        "### Data Cleaning"
      ]
    },
    {
      "cell_type": "code",
      "metadata": {
        "id": "NfuOMIJW8SjE",
        "colab_type": "code",
        "colab": {}
      },
      "source": [
        "#method to remove punctuations\n",
        "\n",
        "puncts = string.punctuation\n",
        "#\"\".translate(str.maketrans('', '', puncts))"
      ],
      "execution_count": 0,
      "outputs": []
    },
    {
      "cell_type": "code",
      "metadata": {
        "id": "UHoNaO3j8SjP",
        "colab_type": "code",
        "colab": {}
      },
      "source": [
        "#method to remove stopwords\n",
        "\n",
        "def rem_stpwords(raw_text):\n",
        "    no_punc = raw_text.translate(str.maketrans('', '', puncts))\n",
        "    no_stpwords = \" \".join([word for word in no_punc.split() if word not in stopwords.words('english')])\n",
        "    return no_stpwords\n",
        "    \n"
      ],
      "execution_count": 0,
      "outputs": []
    },
    {
      "cell_type": "code",
      "metadata": {
        "id": "B6z3Ghn38SjV",
        "colab_type": "code",
        "colab": {}
      },
      "source": [
        "lemmer = nltk.stem.WordNetLemmatizer()\n",
        "def lem(no_stopwords):\n",
        "    lemmatized = \" \".join([lemmer.lemmatize(word, 'v') for word in no_stopwords.split()])\n",
        "    return lemmatized"
      ],
      "execution_count": 0,
      "outputs": []
    },
    {
      "cell_type": "code",
      "metadata": {
        "id": "ym-hp6OM8Sja",
        "colab_type": "code",
        "colab": {}
      },
      "source": [
        "def clean_text(raw_text):\n",
        "    no_stop_words = rem_stpwords(raw_text)\n",
        "    lemmeatized = lem(no_stop_words)\n",
        "    return lemmeatized"
      ],
      "execution_count": 0,
      "outputs": []
    },
    {
      "cell_type": "code",
      "metadata": {
        "id": "IHCdlXrC8Sjg",
        "colab_type": "code",
        "colab": {}
      },
      "source": [
        "#train_data['Cleaned_text'] = train_data['text'].apply(clean_text)"
      ],
      "execution_count": 0,
      "outputs": []
    },
    {
      "cell_type": "code",
      "metadata": {
        "id": "Y2rW-o0z8Sjl",
        "colab_type": "code",
        "colab": {}
      },
      "source": [
        "#train_data.to_csv(\"TRAIN_CLEANED.csv\", index = False)"
      ],
      "execution_count": 0,
      "outputs": []
    },
    {
      "cell_type": "markdown",
      "metadata": {
        "id": "9ncXuho-8Sj8",
        "colab_type": "text"
      },
      "source": [
        "## Count Vectorizing"
      ]
    },
    {
      "cell_type": "code",
      "metadata": {
        "id": "wrEbFzor8SkB",
        "colab_type": "code",
        "colab": {}
      },
      "source": [
        "clean_data_train = pd.read_csv(\"/gd/My Drive/Colab Notebooks/My_Hackathons/NLP_Guntenberg/processed_data/TRAIN_CLEANED.csv\")"
      ],
      "execution_count": 0,
      "outputs": []
    },
    {
      "cell_type": "code",
      "metadata": {
        "id": "VQTuQF1W8SkK",
        "colab_type": "code",
        "outputId": "34f071ce-8ea3-40b2-8a4f-0b95cdf20a4c",
        "colab": {
          "base_uri": "https://localhost:8080/",
          "height": 204
        }
      },
      "source": [
        "clean_data_train.head()"
      ],
      "execution_count": 0,
      "outputs": [
        {
          "output_type": "execute_result",
          "data": {
            "text/html": [
              "<div>\n",
              "<style scoped>\n",
              "    .dataframe tbody tr th:only-of-type {\n",
              "        vertical-align: middle;\n",
              "    }\n",
              "\n",
              "    .dataframe tbody tr th {\n",
              "        vertical-align: top;\n",
              "    }\n",
              "\n",
              "    .dataframe thead th {\n",
              "        text-align: right;\n",
              "    }\n",
              "</style>\n",
              "<table border=\"1\" class=\"dataframe\">\n",
              "  <thead>\n",
              "    <tr style=\"text-align: right;\">\n",
              "      <th></th>\n",
              "      <th>text</th>\n",
              "      <th>author</th>\n",
              "      <th>Cleaned_text</th>\n",
              "    </tr>\n",
              "  </thead>\n",
              "  <tbody>\n",
              "    <tr>\n",
              "      <th>0</th>\n",
              "      <td>They have been pronounced by an\\r\\n\\r\\n\\r\\n\\r\\...</td>\n",
              "      <td>2</td>\n",
              "      <td>They pronounce expert rare variety considerabl...</td>\n",
              "    </tr>\n",
              "    <tr>\n",
              "      <th>1</th>\n",
              "      <td>His partner sailed along in\\r\\n\\r\\n\\r\\n\\r\\n\\r\\...</td>\n",
              "      <td>0</td>\n",
              "      <td>His partner sail along front though notice not...</td>\n",
              "    </tr>\n",
              "    <tr>\n",
              "      <th>2</th>\n",
              "      <td>The cushions were a good deal higher\\r\\n\\r\\n\\r...</td>\n",
              "      <td>5</td>\n",
              "      <td>The cushion good deal higher ball ball fashion...</td>\n",
              "    </tr>\n",
              "    <tr>\n",
              "      <th>3</th>\n",
              "      <td>O God, grant that in his presence I may\\r\\n\\r\\...</td>\n",
              "      <td>4</td>\n",
              "      <td>O God grant presence I may rather see vileness...</td>\n",
              "    </tr>\n",
              "    <tr>\n",
              "      <th>4</th>\n",
              "      <td>The grass\\r\\n\\r\\n\\r\\n\\r\\n\\r\\nglowed with brigh...</td>\n",
              "      <td>0</td>\n",
              "      <td>The grass glow bright fragrant flower Birds fl...</td>\n",
              "    </tr>\n",
              "  </tbody>\n",
              "</table>\n",
              "</div>"
            ],
            "text/plain": [
              "                                                text  ...                                       Cleaned_text\n",
              "0  They have been pronounced by an\\r\\n\\r\\n\\r\\n\\r\\...  ...  They pronounce expert rare variety considerabl...\n",
              "1  His partner sailed along in\\r\\n\\r\\n\\r\\n\\r\\n\\r\\...  ...  His partner sail along front though notice not...\n",
              "2  The cushions were a good deal higher\\r\\n\\r\\n\\r...  ...  The cushion good deal higher ball ball fashion...\n",
              "3  O God, grant that in his presence I may\\r\\n\\r\\...  ...  O God grant presence I may rather see vileness...\n",
              "4  The grass\\r\\n\\r\\n\\r\\n\\r\\n\\r\\nglowed with brigh...  ...  The grass glow bright fragrant flower Birds fl...\n",
              "\n",
              "[5 rows x 3 columns]"
            ]
          },
          "metadata": {
            "tags": []
          },
          "execution_count": 4
        }
      ]
    },
    {
      "cell_type": "code",
      "metadata": {
        "id": "tx1gMrTk8SkW",
        "colab_type": "code",
        "colab": {}
      },
      "source": [
        "from sklearn.feature_extraction.text import CountVectorizer"
      ],
      "execution_count": 0,
      "outputs": []
    },
    {
      "cell_type": "code",
      "metadata": {
        "id": "RBMGqZAm8Skf",
        "colab_type": "code",
        "colab": {}
      },
      "source": [
        "bow_dictionary = CountVectorizer().fit(clean_data_train['Cleaned_text'])"
      ],
      "execution_count": 0,
      "outputs": []
    },
    {
      "cell_type": "code",
      "metadata": {
        "id": "GpxlYENL8Skx",
        "colab_type": "code",
        "outputId": "c0d285c0-3ee7-419c-93f2-088f67761469",
        "colab": {
          "base_uri": "https://localhost:8080/",
          "height": 34
        }
      },
      "source": [
        "len(bow_dictionary.vocabulary_)"
      ],
      "execution_count": 0,
      "outputs": [
        {
          "output_type": "execute_result",
          "data": {
            "text/plain": [
              "99225"
            ]
          },
          "metadata": {
            "tags": []
          },
          "execution_count": 7
        }
      ]
    },
    {
      "cell_type": "code",
      "metadata": {
        "id": "pbo6xwFE8SlA",
        "colab_type": "code",
        "outputId": "412e8c43-d832-4f0e-f661-8c654022b7dd",
        "colab": {
          "base_uri": "https://localhost:8080/",
          "height": 54
        }
      },
      "source": [
        "print(bow_dictionary.vocabulary_)"
      ],
      "execution_count": 0,
      "outputs": [
        {
          "output_type": "stream",
          "text": [
            "{'they': 82007, 'pronounce': 64745, 'expert': 29188, 'rare': 66503, 'variety': 87668, 'considerable': 18797, 'value': 87551, 'you': 92641, 'see': 72084, 'handsome': 37381, 'she': 73467, 'open': 57948, 'flat': 31458, 'box': 12042, 'speak': 76693, 'show': 73989, 'whiskeydealer': 90685 ...}\n"
          ],
          "name": "stdout"
        }
      ]
    },
    {
      "cell_type": "markdown",
      "metadata": {
        "id": "pneTuZFn8SlJ",
        "colab_type": "text"
      },
      "source": [
        "### Examples"
      ]
    },
    {
      "cell_type": "code",
      "metadata": {
        "id": "pV4UQMEa8SlK",
        "colab_type": "code",
        "colab": {}
      },
      "source": [
        "eg = clean_data_train['Cleaned_text'][0]"
      ],
      "execution_count": 0,
      "outputs": []
    },
    {
      "cell_type": "code",
      "metadata": {
        "id": "B93UYxuA8SlR",
        "colab_type": "code",
        "outputId": "02530899-d6e4-4e98-d41c-51f548586f28",
        "colab": {}
      },
      "source": [
        "eg"
      ],
      "execution_count": 0,
      "outputs": [
        {
          "output_type": "execute_result",
          "data": {
            "text/plain": [
              "'They pronounce expert rare variety considerable value You see handsome She open flat box speak show six finest pearl I ever see Your statement interest say Sherlock Holmes Has anything else occur Yes later today That I come This morning I receive letter perhaps read Thank say Holmes The envelope please Postmark London SW Date July 7 Hum Mans thumbmark cornerâ€”probably postman Best quality paper Envelopes sixpence packet Particular man stationery'"
            ]
          },
          "metadata": {
            "tags": []
          },
          "execution_count": 23
        }
      ]
    },
    {
      "cell_type": "code",
      "metadata": {
        "id": "pE1rJ0WC8SlU",
        "colab_type": "code",
        "colab": {}
      },
      "source": [
        "bow_eg = bow_dictionary.transform([eg])"
      ],
      "execution_count": 0,
      "outputs": []
    },
    {
      "cell_type": "code",
      "metadata": {
        "id": "C1J6noli8Slf",
        "colab_type": "code",
        "outputId": "6c842bef-1467-413f-e801-71e528472707",
        "colab": {}
      },
      "source": [
        "bow_eg.shape"
      ],
      "execution_count": 0,
      "outputs": [
        {
          "output_type": "execute_result",
          "data": {
            "text/plain": [
              "(1, 99225)"
            ]
          },
          "metadata": {
            "tags": []
          },
          "execution_count": 28
        }
      ]
    },
    {
      "cell_type": "code",
      "metadata": {
        "id": "_oub1-JX8Slp",
        "colab_type": "code",
        "outputId": "072eacf1-98e5-4e0a-9dc6-b2f18d6cec27",
        "colab": {}
      },
      "source": [
        "print(bow_eg)"
      ],
      "execution_count": 0,
      "outputs": [
        {
          "output_type": "stream",
          "text": [
            "  (0, 5934)\t1\n",
            "  (0, 10202)\t1\n",
            "  (0, 12042)\t1\n",
            "  (0, 17763)\t1\n",
            "  (0, 18797)\t1\n",
            "  (0, 19498)\t1\n",
            "  (0, 21652)\t1\n",
            "  (0, 27120)\t1\n",
            "  (0, 27884)\t1\n",
            "  (0, 27885)\t1\n",
            "  (0, 28616)\t1\n",
            "  (0, 29188)\t1\n",
            "  (0, 31018)\t1\n",
            "  (0, 31458)\t1\n",
            "  (0, 37381)\t1\n",
            "  (0, 37742)\t1\n",
            "  (0, 39553)\t2\n",
            "  (0, 40348)\t1\n",
            "  (0, 43164)\t1\n",
            "  (0, 44873)\t1\n",
            "  (0, 46996)\t1\n",
            "  (0, 47713)\t1\n",
            "  (0, 48798)\t1\n",
            "  (0, 50299)\t1\n",
            "  (0, 50495)\t1\n",
            "  :\t:\n",
            "  (0, 66735)\t1\n",
            "  (0, 66933)\t1\n",
            "  (0, 71096)\t2\n",
            "  (0, 72084)\t2\n",
            "  (0, 73467)\t1\n",
            "  (0, 73616)\t1\n",
            "  (0, 73989)\t1\n",
            "  (0, 74835)\t1\n",
            "  (0, 74849)\t1\n",
            "  (0, 76693)\t1\n",
            "  (0, 77712)\t1\n",
            "  (0, 77751)\t1\n",
            "  (0, 79944)\t1\n",
            "  (0, 81590)\t1\n",
            "  (0, 81622)\t1\n",
            "  (0, 81669)\t1\n",
            "  (0, 82007)\t1\n",
            "  (0, 82208)\t1\n",
            "  (0, 82590)\t1\n",
            "  (0, 83130)\t1\n",
            "  (0, 87551)\t1\n",
            "  (0, 87668)\t1\n",
            "  (0, 92513)\t1\n",
            "  (0, 92641)\t1\n",
            "  (0, 92697)\t1\n"
          ],
          "name": "stdout"
        }
      ]
    },
    {
      "cell_type": "code",
      "metadata": {
        "id": "ffXU1jIE8Sls",
        "colab_type": "code",
        "outputId": "43126eb6-0114-46c1-dc80-625d11b9e4ce",
        "colab": {}
      },
      "source": [
        "bow_dictionary.get_feature_names()[71096]"
      ],
      "execution_count": 0,
      "outputs": [
        {
          "output_type": "execute_result",
          "data": {
            "text/plain": [
              "'say'"
            ]
          },
          "metadata": {
            "tags": []
          },
          "execution_count": 34
        }
      ]
    },
    {
      "cell_type": "markdown",
      "metadata": {
        "id": "GuSK6z8n8Slz",
        "colab_type": "text"
      },
      "source": [
        "### Creating Bag Of Words model for training data"
      ]
    },
    {
      "cell_type": "code",
      "metadata": {
        "id": "GQ9sL9Xp8Sl1",
        "colab_type": "code",
        "colab": {}
      },
      "source": [
        "bow = bow_dictionary.transform(clean_data_train['Cleaned_text'])"
      ],
      "execution_count": 0,
      "outputs": []
    },
    {
      "cell_type": "code",
      "metadata": {
        "id": "YPpSqH2X8Sl6",
        "colab_type": "code",
        "outputId": "f80a08a9-da21-4adf-b9a9-fcb1b8179984",
        "colab": {
          "base_uri": "https://localhost:8080/",
          "height": 34
        }
      },
      "source": [
        "bow.shape"
      ],
      "execution_count": 0,
      "outputs": [
        {
          "output_type": "execute_result",
          "data": {
            "text/plain": [
              "(18977, 99225)"
            ]
          },
          "metadata": {
            "tags": []
          },
          "execution_count": 10
        }
      ]
    },
    {
      "cell_type": "code",
      "metadata": {
        "id": "5Dr8hZbf8Sl_",
        "colab_type": "code",
        "outputId": "70a6c21a-d4c7-473f-c74b-4798cb1c7b91",
        "colab": {
          "base_uri": "https://localhost:8080/",
          "height": 34
        }
      },
      "source": [
        "#Non zero values in bow\n",
        "bow.nnz"
      ],
      "execution_count": 0,
      "outputs": [
        {
          "output_type": "execute_result",
          "data": {
            "text/plain": [
              "2893388"
            ]
          },
          "metadata": {
            "tags": []
          },
          "execution_count": 11
        }
      ]
    },
    {
      "cell_type": "code",
      "metadata": {
        "id": "EJqXHDon8SmH",
        "colab_type": "code",
        "outputId": "acc84e12-c421-4f89-8961-4c3c2c22dac8",
        "colab": {
          "base_uri": "https://localhost:8080/",
          "height": 34
        }
      },
      "source": [
        "#Checking the sparsity of the matrix\n",
        "\n",
        "sparsity = bow.nnz/(bow.shape[0]*bow.shape[1])\n",
        "print(sparsity)"
      ],
      "execution_count": 0,
      "outputs": [
        {
          "output_type": "stream",
          "text": [
            "0.0015365900292264789\n"
          ],
          "name": "stdout"
        }
      ]
    },
    {
      "cell_type": "markdown",
      "metadata": {
        "id": "h_TQPF1O8SmK",
        "colab_type": "text"
      },
      "source": [
        "## TF-IDF"
      ]
    },
    {
      "cell_type": "code",
      "metadata": {
        "id": "WzBGvitV8SmL",
        "colab_type": "code",
        "colab": {}
      },
      "source": [
        "from sklearn.feature_extraction.text import TfidfTransformer"
      ],
      "execution_count": 0,
      "outputs": []
    },
    {
      "cell_type": "code",
      "metadata": {
        "id": "a9SaxpuE8SmO",
        "colab_type": "code",
        "colab": {}
      },
      "source": [
        "tfidf_transformer = TfidfTransformer().fit(bow)"
      ],
      "execution_count": 0,
      "outputs": []
    },
    {
      "cell_type": "code",
      "metadata": {
        "id": "GGkRXpGR8SmS",
        "colab_type": "code",
        "colab": {}
      },
      "source": [
        "text_tfidf = tfidf_transformer.transform(bow)"
      ],
      "execution_count": 0,
      "outputs": []
    },
    {
      "cell_type": "code",
      "metadata": {
        "id": "dhypjtPv8SmV",
        "colab_type": "code",
        "outputId": "208cff62-6214-4b06-fdfb-bd8e47a0cef8",
        "colab": {
          "base_uri": "https://localhost:8080/",
          "height": 884
        }
      },
      "source": [
        "print(text_tfidf)"
      ],
      "execution_count": 0,
      "outputs": [
        {
          "output_type": "stream",
          "text": [
            "  (0, 92697)\t0.10390305089700731\n",
            "  (0, 92641)\t0.057511326353805764\n",
            "  (0, 92513)\t0.07301406877795417\n",
            "  (0, 87668)\t0.13795086926097197\n",
            "  (0, 87551)\t0.10182999851908427\n",
            "  (0, 83130)\t0.09317972315871684\n",
            "  (0, 82590)\t0.213376566329081\n",
            "  (0, 82208)\t0.06005352521298202\n",
            "  (0, 82007)\t0.06001938448651081\n",
            "  (0, 81669)\t0.03235029345147488\n",
            "  (0, 81622)\t0.062327583417070356\n",
            "  (0, 81590)\t0.09903674392771337\n",
            "  (0, 79944)\t0.2433941398418465\n",
            "  (0, 77751)\t0.23367875153968717\n",
            "  (0, 77712)\t0.1262160158462154\n",
            "  (0, 76693)\t0.06141238738947132\n",
            "  (0, 74849)\t0.19676800032667588\n",
            "  (0, 74835)\t0.09398734737422462\n",
            "  (0, 73989)\t0.06701513064885618\n",
            "  (0, 73616)\t0.12439531024906367\n",
            "  (0, 73467)\t0.06441987194071927\n",
            "  (0, 72084)\t0.08379744693196167\n",
            "  (0, 71096)\t0.06709232585449401\n",
            "  (0, 66933)\t0.08294065597123083\n",
            "  (0, 66735)\t0.0805481853661039\n",
            "  :\t:\n",
            "  (18976, 12341)\t0.03471100515342442\n",
            "  (18976, 12278)\t0.055690672939946784\n",
            "  (18976, 12042)\t0.05144796876665045\n",
            "  (18976, 11284)\t0.05403526732794534\n",
            "  (18976, 10942)\t0.08558076268307369\n",
            "  (18976, 10760)\t0.039669263314320545\n",
            "  (18976, 10326)\t0.0942822773703246\n",
            "  (18976, 10132)\t0.07229252469420394\n",
            "  (18976, 8925)\t0.06682323347240333\n",
            "  (18976, 7345)\t0.0881863907814191\n",
            "  (18976, 6094)\t0.0535251497973403\n",
            "  (18976, 5652)\t0.027087360693260783\n",
            "  (18976, 5101)\t0.033752673081267094\n",
            "  (18976, 4797)\t0.035061354672440884\n",
            "  (18976, 4752)\t0.0697754873776187\n",
            "  (18976, 4751)\t0.03634001556227448\n",
            "  (18976, 4598)\t0.10307635292726011\n",
            "  (18976, 4224)\t0.07808455083469482\n",
            "  (18976, 4185)\t0.03830852061846149\n",
            "  (18976, 3820)\t0.08137260363396409\n",
            "  (18976, 3620)\t0.07593299578506614\n",
            "  (18976, 3257)\t0.06182137804032863\n",
            "  (18976, 3045)\t0.041219390757457876\n",
            "  (18976, 3036)\t0.06316963673038227\n",
            "  (18976, 2908)\t0.10104282565399907\n"
          ],
          "name": "stdout"
        }
      ]
    },
    {
      "cell_type": "code",
      "metadata": {
        "id": "GEb0usQr8SmZ",
        "colab_type": "code",
        "outputId": "48a22dfe-56b0-478f-b76a-5fe7a6de7153",
        "colab": {
          "base_uri": "https://localhost:8080/",
          "height": 34
        }
      },
      "source": [
        "tfidf_transformer.idf_[bow_dictionary.vocabulary_['sherlock']]"
      ],
      "execution_count": 0,
      "outputs": [
        {
          "output_type": "execute_result",
          "data": {
            "text/plain": [
              "5.191553476774083"
            ]
          },
          "metadata": {
            "tags": []
          },
          "execution_count": 17
        }
      ]
    },
    {
      "cell_type": "markdown",
      "metadata": {
        "id": "eT3i7m_h8Smh",
        "colab_type": "text"
      },
      "source": [
        "## Classifier"
      ]
    },
    {
      "cell_type": "code",
      "metadata": {
        "colab_type": "code",
        "id": "grHlx1VxzfJw",
        "colab": {}
      },
      "source": [
        "\n",
        "from xgboost import XGBClassifier\n",
        "classifier1 = XGBClassifier().fit(text_tfidf, clean_data_train['author'])\n"
      ],
      "execution_count": 0,
      "outputs": []
    },
    {
      "cell_type": "code",
      "metadata": {
        "colab_type": "code",
        "id": "XSXSqLw-zfJ3",
        "colab": {}
      },
      "source": [
        "#predicting for training_set\n",
        "train_p1 = classifier1.predict(text_tfidf)"
      ],
      "execution_count": 0,
      "outputs": []
    },
    {
      "cell_type": "code",
      "metadata": {
        "id": "VruzzFms8Sm4",
        "colab_type": "code",
        "outputId": "f6be8f07-87d1-43d0-e1a1-c8ac79091c44",
        "colab": {
          "base_uri": "https://localhost:8080/",
          "height": 306
        }
      },
      "source": [
        "from sklearn.metrics import classification_report, confusion_matrix\n",
        "print(classification_report(train_p1, clean_data_train['author']))"
      ],
      "execution_count": 0,
      "outputs": [
        {
          "output_type": "stream",
          "text": [
            "              precision    recall  f1-score   support\n",
            "\n",
            "           0       0.93      0.85      0.89      4188\n",
            "           1       0.90      0.96      0.93       587\n",
            "           2       0.88      0.94      0.91      2450\n",
            "           3       0.96      1.00      0.98      1266\n",
            "           4       0.84      0.95      0.89      2837\n",
            "           5       0.94      0.76      0.84      4365\n",
            "           6       0.90      0.97      0.94       702\n",
            "           7       0.83      0.97      0.90       903\n",
            "           8       0.90      0.99      0.94       833\n",
            "           9       0.72      0.97      0.82       846\n",
            "\n",
            "    accuracy                           0.89     18977\n",
            "   macro avg       0.88      0.94      0.90     18977\n",
            "weighted avg       0.90      0.89      0.89     18977\n",
            "\n"
          ],
          "name": "stdout"
        }
      ]
    },
    {
      "cell_type": "code",
      "metadata": {
        "colab_type": "code",
        "outputId": "c490a11f-3d97-49b6-ad65-13d45c07b0a3",
        "id": "vkxRdpQezfJ_",
        "colab": {
          "base_uri": "https://localhost:8080/",
          "height": 34
        }
      },
      "source": [
        "cm = confusion_matrix(train_p1, clean_data_train['author'])\n",
        "acc = cm.diagonal().sum()/cm.sum()\n",
        "print(acc)"
      ],
      "execution_count": 0,
      "outputs": [
        {
          "output_type": "stream",
          "text": [
            "0.8910786741845392\n"
          ],
          "name": "stdout"
        }
      ]
    },
    {
      "cell_type": "markdown",
      "metadata": {
        "id": "JPUl4eai1esy",
        "colab_type": "text"
      },
      "source": [
        "###Bayesian Optimization"
      ]
    },
    {
      "cell_type": "code",
      "metadata": {
        "id": "UEHtvbCA9cZo",
        "colab_type": "code",
        "outputId": "43410c9c-3226-432d-b6ed-35baf377aa01",
        "colab": {
          "base_uri": "https://localhost:8080/",
          "height": 238
        }
      },
      "source": [
        "!pip install bayesian-optimization"
      ],
      "execution_count": 0,
      "outputs": [
        {
          "output_type": "stream",
          "text": [
            "Collecting bayesian-optimization\n",
            "  Downloading https://files.pythonhosted.org/packages/72/0c/173ac467d0a53e33e41b521e4ceba74a8ac7c7873d7b857a8fbdca88302d/bayesian-optimization-1.0.1.tar.gz\n",
            "Requirement already satisfied: numpy>=1.9.0 in /usr/local/lib/python3.6/dist-packages (from bayesian-optimization) (1.16.4)\n",
            "Requirement already satisfied: scipy>=0.14.0 in /usr/local/lib/python3.6/dist-packages (from bayesian-optimization) (1.3.0)\n",
            "Requirement already satisfied: scikit-learn>=0.18.0 in /usr/local/lib/python3.6/dist-packages (from bayesian-optimization) (0.21.3)\n",
            "Requirement already satisfied: joblib>=0.11 in /usr/local/lib/python3.6/dist-packages (from scikit-learn>=0.18.0->bayesian-optimization) (0.13.2)\n",
            "Building wheels for collected packages: bayesian-optimization\n",
            "  Building wheel for bayesian-optimization (setup.py) ... \u001b[?25l\u001b[?25hdone\n",
            "  Created wheel for bayesian-optimization: filename=bayesian_optimization-1.0.1-cp36-none-any.whl size=10031 sha256=643ef7f81f27988b4dab5d65f62b5b0c5396f16054577e93271a69b7125a65ca\n",
            "  Stored in directory: /root/.cache/pip/wheels/1d/0d/3b/6b9d4477a34b3905f246ff4e7acf6aafd4cc9b77d473629b77\n",
            "Successfully built bayesian-optimization\n",
            "Installing collected packages: bayesian-optimization\n",
            "Successfully installed bayesian-optimization-1.0.1\n"
          ],
          "name": "stdout"
        }
      ]
    },
    {
      "cell_type": "code",
      "metadata": {
        "id": "E4VlTJPB9VAX",
        "colab_type": "code",
        "colab": {}
      },
      "source": [
        "from bayes_opt import BayesianOptimization\n",
        "import xgboost as xgb\n",
        "from sklearn.metrics import mean_squared_error"
      ],
      "execution_count": 0,
      "outputs": []
    },
    {
      "cell_type": "code",
      "metadata": {
        "id": "GDtEbHGE-QVj",
        "colab_type": "code",
        "outputId": "a540580a-5ca6-45df-a4a1-53dc4a31cde4",
        "colab": {
          "base_uri": "https://localhost:8080/",
          "height": 85
        }
      },
      "source": [
        "dtrain = xgb.DMatrix(text_tfidf, label=clean_data_train['author'])"
      ],
      "execution_count": 0,
      "outputs": [
        {
          "output_type": "stream",
          "text": [
            "/usr/local/lib/python3.6/dist-packages/xgboost/core.py:587: FutureWarning: Series.base is deprecated and will be removed in a future version\n",
            "  if getattr(data, 'base', None) is not None and \\\n",
            "/usr/local/lib/python3.6/dist-packages/xgboost/core.py:588: FutureWarning: Series.base is deprecated and will be removed in a future version\n",
            "  data.base is not None and isinstance(data, np.ndarray) \\\n"
          ],
          "name": "stderr"
        }
      ]
    },
    {
      "cell_type": "markdown",
      "metadata": {
        "id": "uowwjQcCmaiD",
        "colab_type": "text"
      },
      "source": [
        "(max_depth=3, learning_rate=0.1, n_estimators=100, verbosity=1, silent=None, objective='binary:logistic', booster='gbtree', n_jobs=1, nthread=None, gamma=0, min_child_weight=1, max_delta_step=0, subsample=1, colsample_bytree=1, colsample_bylevel=1, colsample_bynode=1, reg_alpha=0, reg_lambda=1, scale_pos_weight=1, base_score=0.5, random_state=0, seed=None, missing=None"
      ]
    },
    {
      "cell_type": "code",
      "metadata": {
        "id": "Vh821OKa9VGA",
        "colab_type": "code",
        "colab": {}
      },
      "source": [
        "def bo_tune_xgb(max_depth, gamma, n_estimators ,learning_rate):\n",
        "    params = {'max_depth': int(max_depth),\n",
        "              'gamma': gamma,      \n",
        "              'n_estimators': int(n_estimators),\n",
        "              'learning_rate':learning_rate,\n",
        "              'subsample': 0.8,\n",
        "              'eta': 0.1,\n",
        "              'eval_metric': 'rmse'}\n",
        "    \n",
        "    #Cross validating with the specified parameters in 5 folds and 70 iterations\n",
        "    cv_result = xgb.cv(params, dtrain, num_boost_round=70, nfold=5)    \n",
        "    \n",
        "    #Return the negative RMSE\n",
        "    return -1.0 * cv_result['test-rmse-mean'].iloc[-1]"
      ],
      "execution_count": 0,
      "outputs": []
    },
    {
      "cell_type": "code",
      "metadata": {
        "id": "lGyklaZP9VIB",
        "colab_type": "code",
        "outputId": "54f6d52e-7095-4536-aa49-cd0a3d446149",
        "colab": {
          "base_uri": "https://localhost:8080/",
          "height": 289
        }
      },
      "source": [
        "xgb_bo = BayesianOptimization(bo_tune_xgb, {'max_depth': (3, 10), \n",
        "                                             'gamma': (0, 1),\n",
        "                                             'learning_rate':(0,1),\n",
        "                                             'n_estimators':(100,120)\n",
        "                                            })\n",
        "\n",
        "# performing Bayesian optimization 8 steps of random exploration and for 5 iterations with an acquisition function of \"expected improvement\"\n",
        "xgb_bo.maximize(n_iter=5, init_points=8, acq='ei')"
      ],
      "execution_count": 0,
      "outputs": [
        {
          "output_type": "stream",
          "text": [
            "|   iter    |  target   |   gamma   | learni... | max_depth | n_esti... |\n",
            "-------------------------------------------------------------------------\n",
            "| \u001b[0m 1       \u001b[0m | \u001b[0m-1.954   \u001b[0m | \u001b[0m 0.5647  \u001b[0m | \u001b[0m 0.8276  \u001b[0m | \u001b[0m 8.67    \u001b[0m | \u001b[0m 114.5   \u001b[0m |\n",
            "| \u001b[95m 2       \u001b[0m | \u001b[95m-1.783   \u001b[0m | \u001b[95m 0.7816  \u001b[0m | \u001b[95m 0.1351  \u001b[0m | \u001b[95m 5.972   \u001b[0m | \u001b[95m 106.6   \u001b[0m |\n",
            "| \u001b[0m 3       \u001b[0m | \u001b[0m-1.883   \u001b[0m | \u001b[0m 0.9227  \u001b[0m | \u001b[0m 0.7413  \u001b[0m | \u001b[0m 9.074   \u001b[0m | \u001b[0m 109.5   \u001b[0m |\n",
            "| \u001b[95m 4       \u001b[0m | \u001b[95m-1.732   \u001b[0m | \u001b[95m 0.7944  \u001b[0m | \u001b[95m 0.6263  \u001b[0m | \u001b[95m 7.022   \u001b[0m | \u001b[95m 116.3   \u001b[0m |\n",
            "| \u001b[0m 5       \u001b[0m | \u001b[0m-1.988   \u001b[0m | \u001b[0m 0.4752  \u001b[0m | \u001b[0m 0.9168  \u001b[0m | \u001b[0m 6.688   \u001b[0m | \u001b[0m 101.9   \u001b[0m |\n",
            "| \u001b[0m 6       \u001b[0m | \u001b[0m-2.178   \u001b[0m | \u001b[0m 0.2751  \u001b[0m | \u001b[0m 0.9744  \u001b[0m | \u001b[0m 9.232   \u001b[0m | \u001b[0m 119.6   \u001b[0m |\n",
            "| \u001b[0m 7       \u001b[0m | \u001b[0m-1.972   \u001b[0m | \u001b[0m 0.2993  \u001b[0m | \u001b[0m 0.9699  \u001b[0m | \u001b[0m 5.715   \u001b[0m | \u001b[0m 101.2   \u001b[0m |\n",
            "| \u001b[0m 8       \u001b[0m | \u001b[0m-1.778   \u001b[0m | \u001b[0m 0.238   \u001b[0m | \u001b[0m 0.863   \u001b[0m | \u001b[0m 3.087   \u001b[0m | \u001b[0m 117.5   \u001b[0m |\n",
            "| \u001b[0m 9       \u001b[0m | \u001b[0m-4.148   \u001b[0m | \u001b[0m 1.0     \u001b[0m | \u001b[0m 0.0     \u001b[0m | \u001b[0m 3.85    \u001b[0m | \u001b[0m 113.4   \u001b[0m |\n",
            "| \u001b[0m 10      \u001b[0m | \u001b[0m-1.949   \u001b[0m | \u001b[0m 0.1113  \u001b[0m | \u001b[0m 1.0     \u001b[0m | \u001b[0m 4.579   \u001b[0m | \u001b[0m 119.4   \u001b[0m |\n",
            "| \u001b[0m 11      \u001b[0m | \u001b[0m-4.148   \u001b[0m | \u001b[0m 0.0     \u001b[0m | \u001b[0m 0.0     \u001b[0m | \u001b[0m 9.838   \u001b[0m | \u001b[0m 106.0   \u001b[0m |\n",
            "| \u001b[0m 12      \u001b[0m | \u001b[0m-2.0     \u001b[0m | \u001b[0m 0.0     \u001b[0m | \u001b[0m 1.0     \u001b[0m | \u001b[0m 5.816   \u001b[0m | \u001b[0m 117.5   \u001b[0m |\n",
            "| \u001b[95m 13      \u001b[0m | \u001b[95m-1.683   \u001b[0m | \u001b[95m 1.0     \u001b[0m | \u001b[95m 0.6057  \u001b[0m | \u001b[95m 4.139   \u001b[0m | \u001b[95m 105.3   \u001b[0m |\n",
            "=========================================================================\n"
          ],
          "name": "stdout"
        }
      ]
    },
    {
      "cell_type": "code",
      "metadata": {
        "id": "T2VHvzG79VKU",
        "colab_type": "code",
        "colab": {}
      },
      "source": [
        "#Extracting the best parameters\n",
        "params = xgb_bo.max['params']\n",
        "\n",
        "print(params)\n",
        "\n",
        "#Conversting the max_depth and n_estimator values from float to int\n",
        "params['max_depth']= int(params['max_depth'])\n",
        "params['n_estimators']= int(params['n_estimators'])"
      ],
      "execution_count": 0,
      "outputs": []
    },
    {
      "cell_type": "code",
      "metadata": {
        "id": "uw6fEu-H9Vu1",
        "colab_type": "code",
        "outputId": "1241b91d-cc5c-40c5-8f7f-34abbf22d847",
        "colab": {
          "base_uri": "https://localhost:8080/",
          "height": 51
        }
      },
      "source": [
        "print(params['max_depth'])\n",
        "print(params['n_estimators'])"
      ],
      "execution_count": 0,
      "outputs": [
        {
          "output_type": "stream",
          "text": [
            "4\n",
            "105\n"
          ],
          "name": "stdout"
        }
      ]
    },
    {
      "cell_type": "code",
      "metadata": {
        "id": "oFDVL4Bm8Smm",
        "colab_type": "code",
        "colab": {}
      },
      "source": [
        "#Initialize an XGBClassifier with the tuned parameters and fit the training data\n",
        "from xgboost import XGBClassifier\n",
        "classifier2 = XGBClassifier(**params).fit(text_tfidf, clean_data_train['author'])"
      ],
      "execution_count": 0,
      "outputs": []
    },
    {
      "cell_type": "code",
      "metadata": {
        "id": "fF60f7oCZ1Fb",
        "colab_type": "code",
        "colab": {}
      },
      "source": [
        "#predicting for training_set\n",
        "train_p2 = classifier2.predict(text_tfidf)"
      ],
      "execution_count": 0,
      "outputs": []
    },
    {
      "cell_type": "code",
      "metadata": {
        "id": "3uvcHazz8Sms",
        "colab_type": "code",
        "outputId": "c39eb9b4-a0f5-4438-f9a1-5347f05459d5",
        "colab": {
          "base_uri": "https://localhost:8080/",
          "height": 306
        }
      },
      "source": [
        "print(classification_report(train_p2, clean_data_train['author']))"
      ],
      "execution_count": 0,
      "outputs": [
        {
          "output_type": "stream",
          "text": [
            "              precision    recall  f1-score   support\n",
            "\n",
            "           0       1.00      1.00      1.00      3859\n",
            "           1       1.00      1.00      1.00       621\n",
            "           2       1.00      1.00      1.00      2618\n",
            "           3       1.00      1.00      1.00      1314\n",
            "           4       1.00      1.00      1.00      3182\n",
            "           5       1.00      1.00      1.00      3527\n",
            "           6       1.00      1.00      1.00       755\n",
            "           7       1.00      1.00      1.00      1052\n",
            "           8       1.00      1.00      1.00       907\n",
            "           9       1.00      1.00      1.00      1142\n",
            "\n",
            "    accuracy                           1.00     18977\n",
            "   macro avg       1.00      1.00      1.00     18977\n",
            "weighted avg       1.00      1.00      1.00     18977\n",
            "\n"
          ],
          "name": "stdout"
        }
      ]
    },
    {
      "cell_type": "code",
      "metadata": {
        "id": "jvFbi3eh8SnB",
        "colab_type": "code",
        "outputId": "31292324-2790-4f65-c106-c1abf3b9e970",
        "colab": {
          "base_uri": "https://localhost:8080/",
          "height": 34
        }
      },
      "source": [
        "cm = confusion_matrix(train_p2, clean_data_train['author'])\n",
        "acc = cm.diagonal().sum()/cm.sum()\n",
        "print(acc)"
      ],
      "execution_count": 0,
      "outputs": [
        {
          "output_type": "stream",
          "text": [
            "0.9990514833746114\n"
          ],
          "name": "stdout"
        }
      ]
    },
    {
      "cell_type": "markdown",
      "metadata": {
        "colab_type": "text",
        "id": "XVStZI6bux5P"
      },
      "source": [
        "## Test Predictions"
      ]
    },
    {
      "cell_type": "code",
      "metadata": {
        "id": "5ftAfl7Q8orL",
        "colab_type": "code",
        "colab": {}
      },
      "source": [
        "test_data = pd.read_csv(\"/gd/My Drive/Colab Notebooks/My_Hackathons/NLP_Guntenberg/processed_data/TEST_CLEANED.csv\")"
      ],
      "execution_count": 0,
      "outputs": []
    },
    {
      "cell_type": "code",
      "metadata": {
        "id": "Yca_4k1e8Soi",
        "colab_type": "code",
        "outputId": "d8e5b67a-edac-42a3-dadf-4efec2f3fbb6",
        "colab": {
          "base_uri": "https://localhost:8080/",
          "height": 204
        }
      },
      "source": [
        "test_data.head()"
      ],
      "execution_count": 0,
      "outputs": [
        {
          "output_type": "execute_result",
          "data": {
            "text/html": [
              "<div>\n",
              "<style scoped>\n",
              "    .dataframe tbody tr th:only-of-type {\n",
              "        vertical-align: middle;\n",
              "    }\n",
              "\n",
              "    .dataframe tbody tr th {\n",
              "        vertical-align: top;\n",
              "    }\n",
              "\n",
              "    .dataframe thead th {\n",
              "        text-align: right;\n",
              "    }\n",
              "</style>\n",
              "<table border=\"1\" class=\"dataframe\">\n",
              "  <thead>\n",
              "    <tr style=\"text-align: right;\">\n",
              "      <th></th>\n",
              "      <th>text</th>\n",
              "      <th>Cleaned_text</th>\n",
              "    </tr>\n",
              "  </thead>\n",
              "  <tbody>\n",
              "    <tr>\n",
              "      <th>0</th>\n",
              "      <td>What though I was the victim of\\r\\r\\r\\r\\r\\n   ...</td>\n",
              "      <td>What though I victim extraordinary accident No...</td>\n",
              "    </tr>\n",
              "    <tr>\n",
              "      <th>1</th>\n",
              "      <td>Was ever such a cock-and-bull story in this li...</td>\n",
              "      <td>Was ever cockandbull story life He sit like ol...</td>\n",
              "    </tr>\n",
              "    <tr>\n",
              "      <th>2</th>\n",
              "      <td>Does Alice appear to be present when she is\\r\\...</td>\n",
              "      <td>Does Alice appear present absent” “Alice human...</td>\n",
              "    </tr>\n",
              "    <tr>\n",
              "      <th>3</th>\n",
              "      <td>She inspired the men she knew\\r\\r\\r\\r\\r\\n     ...</td>\n",
              "      <td>She inspire men know feel neither wish time sh...</td>\n",
              "    </tr>\n",
              "    <tr>\n",
              "      <th>4</th>\n",
              "      <td>Instead of\\r\\r\\r\\r\\r\\ngetting hold of man's fr...</td>\n",
              "      <td>Instead get hold man freedom Thou enlarge stil...</td>\n",
              "    </tr>\n",
              "  </tbody>\n",
              "</table>\n",
              "</div>"
            ],
            "text/plain": [
              "                                                text                                       Cleaned_text\n",
              "0  What though I was the victim of\\r\\r\\r\\r\\r\\n   ...  What though I victim extraordinary accident No...\n",
              "1  Was ever such a cock-and-bull story in this li...  Was ever cockandbull story life He sit like ol...\n",
              "2  Does Alice appear to be present when she is\\r\\...  Does Alice appear present absent” “Alice human...\n",
              "3  She inspired the men she knew\\r\\r\\r\\r\\r\\n     ...  She inspire men know feel neither wish time sh...\n",
              "4  Instead of\\r\\r\\r\\r\\r\\ngetting hold of man's fr...  Instead get hold man freedom Thou enlarge stil..."
            ]
          },
          "metadata": {
            "tags": []
          },
          "execution_count": 37
        }
      ]
    },
    {
      "cell_type": "code",
      "metadata": {
        "id": "xP_-1N1RfIq9",
        "colab_type": "code",
        "colab": {}
      },
      "source": [
        "from sklearn.pipeline import Pipeline"
      ],
      "execution_count": 0,
      "outputs": []
    },
    {
      "cell_type": "code",
      "metadata": {
        "id": "V2qWmTTE8Son",
        "colab_type": "code",
        "colab": {}
      },
      "source": [
        "pipe = Pipeline([\n",
        "                ('bow', CountVectorizer()),\n",
        "                ('tfidf', TfidfTransformer()),\n",
        "                ('claffifier', XGBClassifier(**params))\n",
        "])"
      ],
      "execution_count": 0,
      "outputs": []
    },
    {
      "cell_type": "code",
      "metadata": {
        "id": "OLzuwjtb8Sop",
        "colab_type": "code",
        "outputId": "2be7d26d-cbff-4848-fc82-f3a0fc83d131",
        "colab": {
          "base_uri": "https://localhost:8080/",
          "height": 391
        }
      },
      "source": [
        "pipe.fit(clean_data_train['Cleaned_text'], clean_data_train['author'])"
      ],
      "execution_count": 0,
      "outputs": [
        {
          "output_type": "execute_result",
          "data": {
            "text/plain": [
              "Pipeline(memory=None,\n",
              "         steps=[('bow',\n",
              "                 CountVectorizer(analyzer='word', binary=False,\n",
              "                                 decode_error='strict',\n",
              "                                 dtype=<class 'numpy.int64'>, encoding='utf-8',\n",
              "                                 input='content', lowercase=True, max_df=1.0,\n",
              "                                 max_features=None, min_df=1,\n",
              "                                 ngram_range=(1, 1), preprocessor=None,\n",
              "                                 stop_words=None, strip_accents=None,\n",
              "                                 token_pattern='(?u)\\\\b\\\\w\\\\w+\\\\b',\n",
              "                                 tokenizer=None, vocabulary=None...\n",
              "                               colsample_bylevel=1, colsample_bynode=1,\n",
              "                               colsample_bytree=1, gamma=1.0,\n",
              "                               learning_rate=0.6057230206247298,\n",
              "                               max_delta_step=0, max_depth=4,\n",
              "                               min_child_weight=1, missing=None,\n",
              "                               n_estimators=105, n_jobs=1, nthread=None,\n",
              "                               objective='multi:softprob', random_state=0,\n",
              "                               reg_alpha=0, reg_lambda=1, scale_pos_weight=1,\n",
              "                               seed=None, silent=None, subsample=1,\n",
              "                               verbosity=1))],\n",
              "         verbose=False)"
            ]
          },
          "metadata": {
            "tags": []
          },
          "execution_count": 43
        }
      ]
    },
    {
      "cell_type": "code",
      "metadata": {
        "id": "lJZXTocW8So0",
        "colab_type": "code",
        "colab": {}
      },
      "source": [
        "test_preds = pipe.predict(test_data['Cleaned_text'])"
      ],
      "execution_count": 0,
      "outputs": []
    },
    {
      "cell_type": "code",
      "metadata": {
        "id": "3g_7NwKa8SpB",
        "colab_type": "code",
        "outputId": "2500c50d-2639-4126-8ca1-e1bf331cc1fb",
        "colab": {
          "base_uri": "https://localhost:8080/",
          "height": 34
        }
      },
      "source": [
        "test_preds"
      ],
      "execution_count": 0,
      "outputs": [
        {
          "output_type": "execute_result",
          "data": {
            "text/plain": [
              "array([0, 2, 5, ..., 0, 2, 2])"
            ]
          },
          "metadata": {
            "tags": []
          },
          "execution_count": 45
        }
      ]
    },
    {
      "cell_type": "code",
      "metadata": {
        "id": "8dn36D7D8SpF",
        "colab_type": "code",
        "colab": {}
      },
      "source": [
        "pd.DataFrame(test_preds, columns = ['author']).to_excel('/gd/My Drive/Colab Notebooks/My_Hackathons/NLP_Guntenberg/Predictions/BO_overfit_guess_the_author_soln6.xlsx', index = False)"
      ],
      "execution_count": 0,
      "outputs": []
    },
    {
      "cell_type": "code",
      "metadata": {
        "id": "W5bMIm6h8SpW",
        "colab_type": "code",
        "colab": {}
      },
      "source": [
        ""
      ],
      "execution_count": 0,
      "outputs": []
    }
  ]
}
